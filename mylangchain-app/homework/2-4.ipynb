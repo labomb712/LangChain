{
 "cells": [
  {
   "cell_type": "code",
   "execution_count": 4,
   "id": "39ee918a",
   "metadata": {},
   "outputs": [
    {
     "name": "stdout",
     "output_type": "stream",
     "text": [
      "gsk_n\n"
     ]
    }
   ],
   "source": [
    "from dotenv import load_dotenv\n",
    "import os\n",
    "# .env 파일을 불러와서 환경 변수로 설정\n",
    "load_dotenv()\n",
    "\n",
    "OPENAI_API_KEY = os.getenv(\"OPENAI_API_KEY\")\n",
    "print(OPENAI_API_KEY[:5])"
   ]
  },
  {
   "cell_type": "code",
   "execution_count": 7,
   "id": "46696503",
   "metadata": {},
   "outputs": [
    {
     "name": "stdout",
     "output_type": "stream",
     "text": [
      "--- 추출된 여행 정보 ---\n",
      "여행지: 부산\n",
      "기간: 2박 3일\n",
      "예산: 30만원\n",
      "추천도: 4점\n",
      "주요 활동: 해운대 바다구경, 자갈치시장 회 먹기, 감천문화마을 구경\n",
      "\n",
      "--- 결과 타입 ---\n",
      "<class 'dict'>\n"
     ]
    }
   ],
   "source": [
    "from dotenv import load_dotenv\n",
    "import os\n",
    "from typing import List\n",
    "from langchain_core.prompts import ChatPromptTemplate\n",
    "from langchain.output_parsers import StructuredOutputParser, ResponseSchema\n",
    "from langchain_openai import ChatOpenAI\n",
    "\n",
    "# 1. 응답 스키마 정의\n",
    "# StructuredOutputParser는 ResponseSchema를 사용해 추출할 정보의 구조를 정의합니다.\n",
    "response_schemas = [\n",
    "    ResponseSchema(name=\"destination\", description=\"여행지\"),\n",
    "    ResponseSchema(name=\"duration\", description=\"여행 기간\"),\n",
    "    ResponseSchema(name=\"budget\", description=\"여행 예산\"),\n",
    "    ResponseSchema(name=\"rating\", description=\"여행 만족도 (1-5점)\"),\n",
    "    ResponseSchema(name=\"activities\", description=\"주요 활동 리스트\")\n",
    "]\n",
    "\n",
    "# 2. 출력 파서와 프롬프트 설정\n",
    "parser = StructuredOutputParser.from_response_schemas(response_schemas)\n",
    "format_instructions = parser.get_format_instructions()\n",
    "\n",
    "prompt_template = \"\"\"\n",
    "주어진 여행 후기 텍스트에서 다음 정보를 추출해줘.\n",
    "\n",
    "{format_instructions}\n",
    "\n",
    "여행 후기:\n",
    "{text}\n",
    "\"\"\"\n",
    "prompt = ChatPromptTemplate.from_template(prompt_template)\n",
    "\n",
    "# 3. 모델 설정\n",
    "# 환경 변수에 OPENAI_API_KEY를 설정해야 합니다.\n",
    "# 실제 사용 시, 이 부분을 환경에 맞게 조정해야 합니다.\n",
    "try:\n",
    "    api_key = os.environ[\"OPENAI_API_KEY\"]\n",
    "except KeyError:\n",
    "    raise ValueError(\"OPENAI_API_KEY 환경 변수가 설정되지 않았습니다. API 키를 설정해주세요.\")\n",
    "\n",
    "llm = ChatOpenAI(\n",
    "    api_key=api_key,\n",
    "    base_url=\"https://api.groq.com/openai/v1\",  # Groq API 엔드포인트\n",
    "    model=\"moonshotai/kimi-k2-instruct-0905\",\n",
    "    temperature=0  # 구조화된 데이터 추출에는 낮은 온도가 더 적합합니다.\n",
    ")\n",
    "\n",
    "# 4. 체인 구성 및 실행\n",
    "# 파서의 지시사항을 프롬프트에 주입\n",
    "chain = prompt | llm | parser\n",
    "\n",
    "travel_review = \"\"\"\n",
    "지난 주에 부산으로 2박 3일 여행을 다녀왔어요. 총 30만원 정도 썼는데 해운대에서 바다구경하고, 자갈치시장에서 회 먹고, 감천문화마을도 구경했어요. 정말 만족스러운 여행이었습니다. 5점 만점에 4점 정도 줄 수 있을 것 같아요.\n",
    "\"\"\"\n",
    "\n",
    "# 5. 체인 호출 및 결과 출력\n",
    "structured_info = chain.invoke({\"text\": travel_review, \"format_instructions\": format_instructions})\n",
    "\n",
    "print(\"--- 추출된 여행 정보 ---\")\n",
    "print(f\"여행지: {structured_info['destination']}\")\n",
    "print(f\"기간: {structured_info['duration']}\")\n",
    "print(f\"예산: {structured_info['budget']}\")\n",
    "print(f\"추천도: {structured_info['rating']}\")\n",
    "print(f\"주요 활동: {''.join(structured_info['activities'])}\")\n",
    "\n",
    "print(\"\\n--- 결과 타입 ---\")\n",
    "print(type(structured_info))"
   ]
  }
 ],
 "metadata": {
  "kernelspec": {
   "display_name": "mylangchain-app-py3.13 (3.13.5)",
   "language": "python",
   "name": "python3"
  },
  "language_info": {
   "codemirror_mode": {
    "name": "ipython",
    "version": 3
   },
   "file_extension": ".py",
   "mimetype": "text/x-python",
   "name": "python",
   "nbconvert_exporter": "python",
   "pygments_lexer": "ipython3",
   "version": "3.13.5"
  }
 },
 "nbformat": 4,
 "nbformat_minor": 5
}
