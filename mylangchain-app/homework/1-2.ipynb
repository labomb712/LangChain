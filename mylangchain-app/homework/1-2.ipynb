{
 "cells": [
  {
   "cell_type": "code",
   "execution_count": 2,
   "id": "e3b44422",
   "metadata": {},
   "outputs": [
    {
     "name": "stdout",
     "output_type": "stream",
     "text": [
      "연습문제 1-2. 2단계 Multi Chain 만들기 - 여행지 정보 시스템\n"
     ]
    }
   ],
   "source": [
    "print(\"연습문제 1-2. 2단계 Multi Chain 만들기 - 여행지 정보 시스템\")"
   ]
  },
  {
   "cell_type": "code",
   "execution_count": 3,
   "id": "f9cfefcb",
   "metadata": {},
   "outputs": [
    {
     "name": "stdout",
     "output_type": "stream",
     "text": [
      "gsk_nsIjDS\n"
     ]
    }
   ],
   "source": [
    "import os\n",
    "from dotenv import load_dotenv\n",
    "from langchain_core.prompts import ChatPromptTemplate\n",
    "from langchain_openai import ChatOpenAI \n",
    "\n",
    "load_dotenv()\n",
    "OPENAI_API_KEY = os.getenv(\"OPENAI_API_KEY\")\n",
    "print(OPENAI_API_KEY[:10])"
   ]
  },
  {
   "cell_type": "code",
   "execution_count": 4,
   "id": "2ee741a4",
   "metadata": {},
   "outputs": [
    {
     "name": "stdout",
     "output_type": "stream",
     "text": [
      "\n",
      "🔹 1단계 결과: \n",
      "'제주 삼다수 뮤지엄'\n",
      "\n",
      "🔹 2단계 결과: \n",
      "\n",
      "('제주 올레길 21코스\\n'\n",
      " '\\n'\n",
      " '*   역사: 제주 올레길은 제주도의 아름다운 자연 경관을 따라 조성된 도보 여행 코스입니다. 제주 올레길 21코스는 서귀포시 대정읍에서 '\n",
      " '시작하여 성산읍까지 이어집니다. 이 코스는 제주도의 남부 해안을 따라 조성되어 있어, 아름다운 바다 풍경을 감상할 수 있습니다.\\n'\n",
      " '*   특징: 제주 올레길 21코스는 총길이 약 21.1km로, 약 6시간 정도 소요됩니다. 이 코스는 제주도의 남부 해안을 따라 '\n",
      " '조성되어 있어, 아름다운 바다 풍경을 감상할 수 있습니다. 또한, 이 코스에는 다양한 관광 명소들이 포함되어 있어, 제주도의 문화와 '\n",
      " '역사를 체험할 수 있습니다.\\n'\n",
      " '*   방문 팁: 제주 올레길 21코스를 방문할 때는, 충분한 휴식과 수분 섭취가 필요합니다. 또한, 제주도의 날씨가 변덕스러울 수 '\n",
      " '있으니, 우산을 준비하는 것이 좋습니다. 이 코스에는 다양한 관광 명소들이 포함되어 있어, 제주도의 문화와 역사를 체험할 수 있습니다.')\n"
     ]
    }
   ],
   "source": [
    "from langchain_core.prompts import PromptTemplate\n",
    "from langchain_openai import ChatOpenAI\n",
    "from langchain_core.output_parsers import StrOutputParser\n",
    "from pprint import pprint\n",
    "\n",
    "prompt1 = ChatPromptTemplate([\n",
    "  (\"system\", \"당신은 여행 전문가입니다.\"),\n",
    "  (\"user\", \"{place} 의 대표적인 관광 명소 한 곳을 추천해 이름만을 알려주세요.\")])\n",
    "\n",
    "# Step 2: 추천된 관광 명소의 정보를 요약\n",
    "prompt2 = ChatPromptTemplate([\n",
    "  (\"system\",\"관광 명소의 정보를 요약해서 알려주세요.\"),\n",
    "  (\"user\",\"{place} 추천한 관광 명소의 이름을 먼저 알려주시고, 줄을 바꾸어서 관광 명소의 역사, 특징, 방문 팁을 순서대로 알려 주세요.\")])\n",
    "\n",
    "llm = ChatOpenAI(\n",
    "    api_key=OPENAI_API_KEY,\n",
    "    base_url=\"https://api.groq.com/openai/v1\",  # Groq API 엔드포인트\n",
    "    model=\"meta-llama/llama-4-scout-17b-16e-instruct\",  # Spring AI와 동일한 모델\n",
    "    temperature=0.7\n",
    ")\n",
    "\n",
    "chain1 = prompt1 | llm | StrOutputParser()\n",
    "\n",
    "# 체인 2: 관광 명소 정보 요약 (입력: 관광 명소 이름 → 출력: 정보 요약)\n",
    "chain2 = (\n",
    "    {\"place\": chain1}  # chain1의 출력을 place 변수로 전달\n",
    "    | prompt2\n",
    "    | llm\n",
    "    | StrOutputParser()\n",
    ")\n",
    "\n",
    "place = input(\"관광 명소를 추천받고 싶은 도시나 국가를 입력하세요 (예: 파리, 일본): \")\n",
    "\n",
    "response = chain1.invoke({\"place\": place})\n",
    "print(\"\\n🔹 1단계 결과: \")\n",
    "pprint(response)\n",
    "response = chain2.invoke({\"place\": place})\n",
    "print(f\"\\n🔹 2단계 결과: \\n\")\n",
    "pprint(response)"
   ]
  }
 ],
 "metadata": {
  "kernelspec": {
   "display_name": "mylangchain-app-py3.13 (3.13.5)",
   "language": "python",
   "name": "python3"
  },
  "language_info": {
   "codemirror_mode": {
    "name": "ipython",
    "version": 3
   },
   "file_extension": ".py",
   "mimetype": "text/x-python",
   "name": "python",
   "nbconvert_exporter": "python",
   "pygments_lexer": "ipython3",
   "version": "3.13.5"
  }
 },
 "nbformat": 4,
 "nbformat_minor": 5
}
