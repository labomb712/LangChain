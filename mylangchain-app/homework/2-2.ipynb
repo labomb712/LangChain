{
 "cells": [
  {
   "cell_type": "code",
   "execution_count": 1,
   "id": "aeb67fbe",
   "metadata": {},
   "outputs": [
    {
     "name": "stdout",
     "output_type": "stream",
     "text": [
      "gsk_n\n"
     ]
    }
   ],
   "source": [
    "from dotenv import load_dotenv\n",
    "import os\n",
    "# .env 파일을 불러와서 환경 변수로 설정\n",
    "load_dotenv()\n",
    "\n",
    "OPENAI_API_KEY = os.getenv(\"OPENAI_API_KEY\")\n",
    "print(OPENAI_API_KEY[:5])"
   ]
  },
  {
   "cell_type": "code",
   "execution_count": 7,
   "id": "7ae3d8ce",
   "metadata": {},
   "outputs": [
    {
     "name": "stdout",
     "output_type": "stream",
     "text": [
      "--- 영화 리뷰 감정 분석 ---\n",
      "리뷰: \"이 영화 정말 재미없어요. 시간 낭비였습니다.\"\n",
      "감정: 부정\n",
      "--------------------\n",
      "리뷰: \"배우들의 연기가 훌륭하고 스토리도 감동적이었어요!\"\n",
      "감정: 긍정\n",
      "--------------------\n",
      "리뷰: \"그냥 무난한 영화였습니다. 나쁘지도 좋지도 않아요.\"\n",
      "감정: 보통\n",
      "--------------------\n",
      "리뷰: \"스토리가 너무 복잡해서 이해하기 어려웠지만, 시각 효과는 뛰어났습니다.\"\n",
      "감정: 보통\n",
      "--------------------\n"
     ]
    }
   ],
   "source": [
    "from enum import Enum\n",
    "from langchain.output_parsers.enum import EnumOutputParser\n",
    "from langchain_core.prompts import PromptTemplate\n",
    "from langchain_openai import ChatOpenAI\n",
    "from langchain.output_parsers import OutputFixingParser\n",
    "\n",
    "# 1. Define the Enum for sentiment categories\n",
    "class Sentiment(Enum):\n",
    "    POSITIVE = \"긍정\"\n",
    "    NEGATIVE = \"부정\"\n",
    "    NEUTRAL = \"보통\"\n",
    "\n",
    "# 2. Set up the Output Parser\n",
    "output_parser = EnumOutputParser(enum=Sentiment)\n",
    "\n",
    "# Optional: Add an OutputFixingParser for robustness\n",
    "fix_parser = OutputFixingParser.from_llm(parser=output_parser, llm=ChatOpenAI(model=\"moonshotai/kimi-k2-instruct-0905\"))\n",
    "\n",
    "# 3. Define the Prompt Template\n",
    "prompt_template = PromptTemplate(\n",
    "    template=\"\"\"주어진 영화 리뷰의 감정을 '긍정', '부정', '보통' 중 하나로 분류하세요.\n",
    "출력은 반드시 한국어로 된 단어 하나여야 합니다.\n",
    "\n",
    "리뷰: {review}\n",
    "감정: \"\"\",\n",
    "    input_variables=[\"review\"],\n",
    ")\n",
    "\n",
    "# 4. Initialize the LLM\n",
    "llm =  ChatOpenAI(\n",
    "    api_key=OPENAI_API_KEY,\n",
    "    base_url=\"https://api.groq.com/openai/v1\",  # Groq API 엔드포인트\n",
    "    model=\"moonshotai/kimi-k2-instruct-0905\",  # Spring AI와 동일한 모델\n",
    "    temperature=0.7\n",
    ")\n",
    "\n",
    "# 5. Create the Chain\n",
    "# We use the fixing parser to make the chain more robust\n",
    "chain = prompt_template | llm | fix_parser\n",
    "\n",
    "# 6. Test Reviews\n",
    "test_reviews = [\n",
    "    \"이 영화 정말 재미없어요. 시간 낭비였습니다.\",\n",
    "    \"배우들의 연기가 훌륭하고 스토리도 감동적이었어요!\",\n",
    "    \"그냥 무난한 영화였습니다. 나쁘지도 좋지도 않아요.\",\n",
    "    \"스토리가 너무 복잡해서 이해하기 어려웠지만, 시각 효과는 뛰어났습니다.\"\n",
    "]\n",
    "\n",
    "# 7. Run the tests and print results\n",
    "print(\"--- 영화 리뷰 감정 분석 ---\")\n",
    "for review in test_reviews:\n",
    "    print(f\"리뷰: \\\"{review}\\\"\")\n",
    "    result = chain.invoke({\"review\": review})\n",
    "    \n",
    "    # The parser returns the Enum member, we can access its value\n",
    "    if isinstance(result, Sentiment):\n",
    "        sentiment_label = result.value\n",
    "        print(f\"감정: {sentiment_label}\")\n",
    "    else:\n",
    "        print(f\"감정: {result}\")\n",
    "        \n",
    "    print(\"-\" * 20)"
   ]
  }
 ],
 "metadata": {
  "kernelspec": {
   "display_name": "mylangchain-app-py3.13 (3.13.5)",
   "language": "python",
   "name": "python3"
  },
  "language_info": {
   "codemirror_mode": {
    "name": "ipython",
    "version": 3
   },
   "file_extension": ".py",
   "mimetype": "text/x-python",
   "name": "python",
   "nbconvert_exporter": "python",
   "pygments_lexer": "ipython3",
   "version": "3.13.5"
  }
 },
 "nbformat": 4,
 "nbformat_minor": 5
}
