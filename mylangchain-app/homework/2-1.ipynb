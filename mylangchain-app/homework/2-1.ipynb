{
 "cells": [
  {
   "cell_type": "code",
   "execution_count": 1,
   "id": "fa6afe17",
   "metadata": {},
   "outputs": [
    {
     "name": "stdout",
     "output_type": "stream",
     "text": [
      "gsk_n\n"
     ]
    }
   ],
   "source": [
    "from dotenv import load_dotenv\n",
    "import os\n",
    "# .env 파일을 불러와서 환경 변수로 설정\n",
    "load_dotenv()\n",
    "\n",
    "OPENAI_API_KEY = os.getenv(\"OPENAI_API_KEY\")\n",
    "print(OPENAI_API_KEY[:5])"
   ]
  },
  {
   "cell_type": "code",
   "execution_count": 9,
   "id": "7847592c",
   "metadata": {},
   "outputs": [
    {
     "name": "stdout",
     "output_type": "stream",
     "text": [
      "입력: 스포츠\n",
      "출력: ['잠실종합운동장 야구장', '태백산 눈축제 스키', '제주도 번개스쿠버', '한강 자전거길', '서울올림픽체조경기장 체험']\n",
      "결과 타입: <class 'list'>\n"
     ]
    }
   ],
   "source": [
    "from dotenv import load_dotenv\n",
    "import os\n",
    "from langchain_core.prompts import PromptTemplate\n",
    "from langchain_openai import ChatOpenAI\n",
    "from langchain.output_parsers import CommaSeparatedListOutputParser\n",
    "\n",
    "# 1. 출력 파서와 프롬프트 설정\n",
    "output_parser = CommaSeparatedListOutputParser()\n",
    "format_instructions = output_parser.get_format_instructions()\n",
    "\n",
    "prompt_template = PromptTemplate(\n",
    "    template=\"\"\"사용자가 관심있는 분야를 알려줄게.\n",
    "사용자가 입력한 {topic}와(과) 관련된 한국의 유명한 장소나 활동 5가지를 쉼표로 구분하여 출력해줘.\n",
    "\n",
    "{format_instructions}\"\"\",\n",
    "    input_variables=[\"topic\"],\n",
    "    partial_variables={\"format_instructions\": format_instructions},\n",
    ")\n",
    "\n",
    "# 2. 모델 설정\n",
    "llm = ChatOpenAI(\n",
    "    api_key=OPENAI_API_KEY,\n",
    "    base_url=\"https://api.groq.com/openai/v1\",  # Groq API 엔드포인트\n",
    "    model=\"moonshotai/kimi-k2-instruct-0905\",  # Spring AI와 동일한 모델\n",
    "    temperature=0.7\n",
    ")\n",
    "\n",
    "# 3. 체인 구성\n",
    "chain = prompt_template | llm | output_parser\n",
    "\n",
    "# 4. 사용자 입력 및 실행\n",
    "user_topic = input(\"관심있는 분야를 입력하세요: \")\n",
    "result = chain.invoke({\"topic\": user_topic})\n",
    "\n",
    "# 5. 결과 출력\n",
    "print(f\"입력: {user_topic}\")\n",
    "print(f\"출력: {result}\")\n",
    "print(f\"결과 타입: {type(result)}\")"
   ]
  }
 ],
 "metadata": {
  "kernelspec": {
   "display_name": "mylangchain-app-py3.13 (3.13.5)",
   "language": "python",
   "name": "python3"
  },
  "language_info": {
   "codemirror_mode": {
    "name": "ipython",
    "version": 3
   },
   "file_extension": ".py",
   "mimetype": "text/x-python",
   "name": "python",
   "nbconvert_exporter": "python",
   "pygments_lexer": "ipython3",
   "version": "3.13.5"
  }
 },
 "nbformat": 4,
 "nbformat_minor": 5
}
