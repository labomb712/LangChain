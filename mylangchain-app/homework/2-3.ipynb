{
 "cells": [
  {
   "cell_type": "code",
   "execution_count": 11,
   "id": "1b6967a9",
   "metadata": {},
   "outputs": [
    {
     "name": "stdout",
     "output_type": "stream",
     "text": [
      "gsk_n\n"
     ]
    }
   ],
   "source": [
    "from dotenv import load_dotenv\n",
    "import os\n",
    "# .env 파일을 불러와서 환경 변수로 설정\n",
    "load_dotenv()\n",
    "\n",
    "OPENAI_API_KEY = os.getenv(\"OPENAI_API_KEY\")\n",
    "print(OPENAI_API_KEY[:5])"
   ]
  },
  {
   "cell_type": "code",
   "execution_count": null,
   "id": "41f73164",
   "metadata": {},
   "outputs": [
    {
     "ename": "AttributeError",
     "evalue": "type object 'StudentInfo' has no attribute 'model_json_schema'",
     "output_type": "error",
     "traceback": [
      "\u001b[31m---------------------------------------------------------------------------\u001b[39m",
      "\u001b[31mAttributeError\u001b[39m                            Traceback (most recent call last)",
      "\u001b[36mCell\u001b[39m\u001b[36m \u001b[39m\u001b[32mIn[12]\u001b[39m\u001b[32m, line 17\u001b[39m\n\u001b[32m     15\u001b[39m \u001b[38;5;66;03m# 2. 출력 파서와 프롬프트 설정\u001b[39;00m\n\u001b[32m     16\u001b[39m parser = PydanticOutputParser(pydantic_object=StudentInfo)\n\u001b[32m---> \u001b[39m\u001b[32m17\u001b[39m format_instructions = \u001b[43mparser\u001b[49m\u001b[43m.\u001b[49m\u001b[43mget_format_instructions\u001b[49m\u001b[43m(\u001b[49m\u001b[43m)\u001b[49m\n\u001b[32m     19\u001b[39m prompt_template = PromptTemplate(\n\u001b[32m     20\u001b[39m     template=\u001b[33m\"\"\"\u001b[39m\u001b[33m주어진 학생의 자기소개 텍스트에서 다음 정보를 추출해줘.\u001b[39m\n\u001b[32m     21\u001b[39m \n\u001b[32m   (...)\u001b[39m\u001b[32m     27\u001b[39m     partial_variables={\u001b[33m\"\u001b[39m\u001b[33mformat_instructions\u001b[39m\u001b[33m\"\u001b[39m: format_instructions},\n\u001b[32m     28\u001b[39m )\n\u001b[32m     30\u001b[39m \u001b[38;5;66;03m# 3. 모델 설정\u001b[39;00m\n",
      "\u001b[36mFile \u001b[39m\u001b[32mc:\\Users\\User\\AppData\\Local\\pypoetry\\Cache\\virtualenvs\\mylangchain-app-_yJbvJiQ-py3.13\\Lib\\site-packages\\langchain_core\\output_parsers\\pydantic.py:90\u001b[39m, in \u001b[36mPydanticOutputParser.get_format_instructions\u001b[39m\u001b[34m(self)\u001b[39m\n\u001b[32m     84\u001b[39m \u001b[38;5;250m\u001b[39m\u001b[33;03m\"\"\"Return the format instructions for the JSON output.\u001b[39;00m\n\u001b[32m     85\u001b[39m \n\u001b[32m     86\u001b[39m \u001b[33;03mReturns:\u001b[39;00m\n\u001b[32m     87\u001b[39m \u001b[33;03m    The format instructions for the JSON output.\u001b[39;00m\n\u001b[32m     88\u001b[39m \u001b[33;03m\"\"\"\u001b[39;00m\n\u001b[32m     89\u001b[39m \u001b[38;5;66;03m# Copy schema to avoid altering original Pydantic schema.\u001b[39;00m\n\u001b[32m---> \u001b[39m\u001b[32m90\u001b[39m schema = \u001b[38;5;28mdict\u001b[39m(\u001b[38;5;28;43mself\u001b[39;49m\u001b[43m.\u001b[49m\u001b[43mpydantic_object\u001b[49m\u001b[43m.\u001b[49m\u001b[43mmodel_json_schema\u001b[49m().items())\n\u001b[32m     92\u001b[39m \u001b[38;5;66;03m# Remove extraneous fields.\u001b[39;00m\n\u001b[32m     93\u001b[39m reduced_schema = schema\n",
      "\u001b[31mAttributeError\u001b[39m: type object 'StudentInfo' has no attribute 'model_json_schema'"
     ]
    }
   ],
   "source": [
    "from langchain_core.prompts import PromptTemplate\n",
    "from langchain_core.pydantic_v1 import BaseModel, Field\n",
    "from langchain_core.output_parsers import PydanticOutputParser\n",
    "from langchain_openai import ChatOpenAI\n",
    "import os\n",
    "\n",
    "# 1. Pydantic 모델 정의\n",
    "class StudentInfo(BaseModel):\n",
    "    name: str = Field(description=\"학생의 이름\")\n",
    "    age: int = Field(description=\"학생의 나이\")\n",
    "    major: str = Field(description=\"학생의 전공\")\n",
    "    hobbies: list[str] = Field(description=\"학생의 취미 리스트\")\n",
    "    goal: str = Field(description=\"학생의 목표\")\n",
    "    \n",
    "# 2. 출력 파서와 프롬프트 설정\n",
    "parser = PydanticOutputParser(pydantic_object=StudentInfo)\n",
    "\n",
    "\n",
    "prompt_template = PromptTemplate(\n",
    "    template=\"\"\"주어진 학생의 자기소개 텍스트에서 다음 정보를 추출해줘.\n",
    "\n",
    "{format_instructions}\n",
    "\n",
    "자유 형식 자기소개:\n",
    "{text}\"\"\",\n",
    "    input_variables=[\"text\"],\n",
    "    partial_variables={\"format_instructions\": format_instructions},\n",
    ")\n",
    "\n",
    "# 3. 모델 설정\n",
    "llm = ChatOpenAI(\n",
    "    api_key=OPENAI_API_KEY,\n",
    "    base_url=\"https://api.groq.com/openai/v1\",  # Groq API 엔드포인트\n",
    "    model=\"moonshotai/kimi-k2-instruct-0905\",  # Spring AI와 동일한 모델\n",
    "    temperature=0.7\n",
    ")\n",
    "\n",
    "# 4. 체인 구성\n",
    "chain = prompt_template | llm | parser\n",
    "\n",
    "# 5. 실행\n",
    "student_text = \"\"\"\n",
    "안녕하세요! 저는 김민수이고 22살입니다. \n",
    "컴퓨터공학을 전공하고 있어요. \n",
    "취미로는 게임하기, 영화보기, 코딩을 좋아합니다. \n",
    "앞으로 훌륭한 개발자가 되는 것이 목표입니다.\n",
    "\"\"\"\n",
    "\n",
    "structured_info = chain.invoke({\"text\": student_text})\n",
    "\n",
    "# 6. 결과 출력\n",
    "print(\"--- 추출된 학생 정보 ---\")\n",
    "print(f\"이름: {structured_info.name}\")\n",
    "print(f\"나이: {structured_info.age}\")\n",
    "print(f\"전공: {structured_info.major}\")\n",
    "print(f\"취미: {structured_info.hobbies}\")\n",
    "print(f\"목표: {structured_info.goal}\")\n",
    "\n",
    "print(\"\\n--- 결과 타입 ---\")\n",
    "print(type(structured_info))"
   ]
  }
 ],
 "metadata": {
  "language_info": {
   "name": "python"
  }
 },
 "nbformat": 4,
 "nbformat_minor": 5
}
