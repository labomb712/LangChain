{
 "cells": [
  {
   "cell_type": "code",
   "execution_count": 2,
   "id": "1b6967a9",
   "metadata": {},
   "outputs": [
    {
     "name": "stdout",
     "output_type": "stream",
     "text": [
      "gsk_n\n"
     ]
    }
   ],
   "source": [
    "from dotenv import load_dotenv\n",
    "import os\n",
    "# .env 파일을 불러와서 환경 변수로 설정\n",
    "load_dotenv()\n",
    "\n",
    "OPENAI_API_KEY = os.getenv(\"OPENAI_API_KEY\")\n",
    "print(OPENAI_API_KEY[:5])"
   ]
  },
  {
   "cell_type": "code",
   "execution_count": null,
   "id": "41f73164",
   "metadata": {},
   "outputs": [
    {
     "name": "stdout",
     "output_type": "stream",
     "text": [
      "--- 추출된 학생 정보 ---\n",
      "이름: 김민수\n",
      "나이: 22\n",
      "전공: 컴퓨터공학\n",
      "취미: 게임하기, 영화보기, 코딩\n",
      "목표: 훌륭한 개발자가 되는 것\n",
      "\n",
      "--- 결과 타입 ---\n",
      "<class '__main__.StudentInfo'>\n"
     ]
    }
   ],
   "source": [
    "from langchain_openai import ChatOpenAI\n",
    "from langchain_core.prompts import ChatPromptTemplate\n",
    "from langchain.output_parsers import PydanticOutputParser\n",
    "from pydantic import BaseModel, Field\n",
    "from typing import List\n",
    "import os\n",
    "\n",
    "# Pydantic 모델 정의\n",
    "class StudentInfo(BaseModel):\n",
    "    name: str = Field(description=\"학생의 이름\")\n",
    "    age: int = Field(description=\"학생의 나이\")\n",
    "    major: str = Field(description=\"학생의 전공\")\n",
    "    hobbies: List[str] = Field(description=\"학생의 취미 리스트\")\n",
    "    goal: str = Field(description=\"학생의 목표\")\n",
    "\n",
    "# 출력 파서 초기화\n",
    "parser = PydanticOutputParser(pydantic_object=StudentInfo)\n",
    "format_instructions = parser.get_format_instructions()\n",
    "\n",
    "# 프롬프트 템플릿 설정\n",
    "template = \"\"\"\n",
    "주어진 학생의 자유 형식 자기소개 텍스트에서 다음 정보를 추출해줘.\n",
    "\n",
    "{format_instructions}\n",
    "\n",
    "자기소개:\n",
    "{text}\n",
    "\"\"\"\n",
    "\n",
    "prompt = ChatPromptTemplate.from_template(template)\n",
    "\n",
    "# 파서의 지시사항을 프롬프트에 주입\n",
    "prompt = prompt.partial(format_instructions=format_instructions)\n",
    "\n",
    "# 모델 설정\n",
    "# Groq API 키를 환경 변수에서 가져옵니다.\n",
    "try:\n",
    "    api_key = os.environ[\"OPENAI_API_KEY\"]\n",
    "except KeyError:\n",
    "    raise ValueError(\"OPENAI_API_KEY 환경 변수가 설정되지 않았습니다.\")\n",
    "\n",
    "llm = ChatOpenAI(\n",
    "    api_key=api_key,\n",
    "    base_url=\"https://api.groq.com/openai/v1\",  # Groq API 엔드포인트\n",
    "    model=\"moonshotai/kimi-k2-instruct-0905\",\n",
    "    temperature=0  # 구조화된 데이터 추출에는 낮은 온도가 더 적합합니다.\n",
    ")\n",
    "\n",
    "# 체인 구성\n",
    "chain = prompt | llm | parser\n",
    "\n",
    "# 실행\n",
    "student_text = \"\"\"\n",
    "안녕하세요! 저는 김민수이고 22살입니다. \n",
    "컴퓨터공학을 전공하고 있어요. \n",
    "취미로는 게임하기, 영화보기, 코딩을 좋아합니다. \n",
    "앞으로 훌륭한 개발자가 되는 것이 목표입니다.\n",
    "\"\"\"\n",
    "\n",
    "structured_info = chain.invoke({\"text\": student_text})\n",
    "\n",
    "# 결과 출력\n",
    "print(\"--- 추출된 학생 정보 ---\")\n",
    "print(f\"이름: {structured_info.name}\")\n",
    "print(f\"나이: {structured_info.age}\")\n",
    "print(f\"전공: {structured_info.major}\")\n",
    "print(f\"취미: {', '.join(structured_info.hobbies)}\")\n",
    "print(f\"목표: {structured_info.goal}\")\n",
    "\n",
    "print(\"\\n--- 결과 타입 ---\")\n",
    "print(type(structured_info))"
   ]
  }
 ],
 "metadata": {
  "kernelspec": {
   "display_name": "mylangchain-app-py3.13 (3.13.5)",
   "language": "python",
   "name": "python3"
  },
  "language_info": {
   "codemirror_mode": {
    "name": "ipython",
    "version": 3
   },
   "file_extension": ".py",
   "mimetype": "text/x-python",
   "name": "python",
   "nbconvert_exporter": "python",
   "pygments_lexer": "ipython3",
   "version": "3.13.5"
  }
 },
 "nbformat": 4,
 "nbformat_minor": 5
}
