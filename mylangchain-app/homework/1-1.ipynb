{
 "cells": [
  {
   "cell_type": "code",
   "execution_count": 1,
   "id": "0bd87205",
   "metadata": {},
   "outputs": [
    {
     "name": "stdout",
     "output_type": "stream",
     "text": [
      "연습문제 1-1. 기본 Chain 만들기 - AI 요리사\n"
     ]
    }
   ],
   "source": [
    "print(\"연습문제 1-1. 기본 Chain 만들기 - AI 요리사\")"
   ]
  },
  {
   "cell_type": "code",
   "execution_count": 3,
   "id": "960e244a",
   "metadata": {},
   "outputs": [
    {
     "name": "stdout",
     "output_type": "stream",
     "text": [
      "gsk_nsIjDS\n"
     ]
    }
   ],
   "source": [
    "import os\n",
    "from dotenv import load_dotenv\n",
    "from langchain_core.prompts import ChatPromptTemplate\n",
    "from langchain_openai import ChatOpenAI \n",
    "\n",
    "load_dotenv()\n",
    "OPENAI_API_KEY = os.getenv(\"OPENAI_API_KEY\")\n",
    "print(OPENAI_API_KEY[:10])"
   ]
  },
  {
   "cell_type": "code",
   "execution_count": 4,
   "id": "7d9d8103",
   "metadata": {},
   "outputs": [
    {
     "name": "stdout",
     "output_type": "stream",
     "text": [
      "<class 'langchain_core.prompts.prompt.PromptTemplate'>\n",
      "input_variables=[] input_types={} partial_variables={} template='너는 요리사야. 토마토, 양파, 치즈로 만들 수 있는 요리를 추천해줘!'\n"
     ]
    }
   ],
   "source": [
    "from langchain_core.prompts import PromptTemplate\n",
    "\n",
    "prompt = PromptTemplate.from_template(\"너는 요리사야. 토마토, 양파, 치즈로 만들 수 있는 요리를 추천해줘!\")\n",
    "\n",
    "print(type(prompt))\n",
    "print(prompt)"
   ]
  },
  {
   "cell_type": "code",
   "execution_count": 5,
   "id": "a8bec791",
   "metadata": {},
   "outputs": [
    {
     "name": "stdout",
     "output_type": "stream",
     "text": [
      "<class 'langchain_core.runnables.base.RunnableSequence'>\n",
      "<class 'langchain_core.messages.ai.AIMessage'>\n",
      "content='토마토, 양파, 치즈로 만들 수 있는 간단한 요리로는 **토마토 치즈 구이**가 있습니다.\\n\\n먼저 토마토와 양파를 깨끗이 씻고, 양파는 채썰기를 하고, 토마토는 반으로 자릅니다.\\n\\n그다음 프라이팬에 기름을 두르고 양파를 볶다가 토마토도 넣고 볶아줍니다.\\n\\n토마토가 살짝 익으면, 그 위에 치즈를 올려줍니다.\\n\\n치즈가 녹을 때까지 기다리면 맛있는 토마토 치즈 구이가 완성됩니다.\\n\\n이 요리는 간단하면서도 영양소가 풍부하고, 치즈의 고소함과 토마토의 신선함이 잘 어울리는 요리입니다.' additional_kwargs={'refusal': None} response_metadata={'token_usage': {'completion_tokens': 162, 'prompt_tokens': 35, 'total_tokens': 197, 'completion_tokens_details': None, 'prompt_tokens_details': None, 'queue_time': 0.2060765, 'prompt_time': 0.000513132, 'completion_time': 0.368287984, 'total_time': 0.368801116}, 'model_name': 'meta-llama/llama-4-scout-17b-16e-instruct', 'system_fingerprint': 'fp_37da608fc1', 'id': 'chatcmpl-3f0a7db5-4a63-4e45-a488-2ed359766e76', 'service_tier': 'on_demand', 'finish_reason': 'stop', 'logprobs': None} id='run--c070c3c0-b1e8-491c-a21a-29e1afe5f431-0' usage_metadata={'input_tokens': 35, 'output_tokens': 162, 'total_tokens': 197, 'input_token_details': {}, 'output_token_details': {}}\n"
     ]
    }
   ],
   "source": [
    "from langchain_openai import ChatOpenAI\n",
    "\n",
    "# llm = ChatOpenAI(model=\"gpt-3.5-turbo-0125\")\n",
    "llm = ChatOpenAI(\n",
    "    api_key=OPENAI_API_KEY,\n",
    "    base_url=\"https://api.groq.com/openai/v1\",  # Groq API 엔드포인트\n",
    "    model=\"meta-llama/llama-4-scout-17b-16e-instruct\",  # Spring AI와 동일한 모델\n",
    "    temperature=0.7\n",
    ")\n",
    "# chain 연결 (LCEL)\n",
    "chain = prompt | llm\n",
    "print(type(chain))\n",
    "\n",
    "# chain 호출\n",
    "result = chain.invoke({\"input\": \"요리리\"})\n",
    "print(type(result))\n",
    "print(result)"
   ]
  }
 ],
 "metadata": {
  "kernelspec": {
   "display_name": "mylangchain-app-py3.13 (3.13.5)",
   "language": "python",
   "name": "python3"
  },
  "language_info": {
   "codemirror_mode": {
    "name": "ipython",
    "version": 3
   },
   "file_extension": ".py",
   "mimetype": "text/x-python",
   "name": "python",
   "nbconvert_exporter": "python",
   "pygments_lexer": "ipython3",
   "version": "3.13.5"
  }
 },
 "nbformat": 4,
 "nbformat_minor": 5
}
